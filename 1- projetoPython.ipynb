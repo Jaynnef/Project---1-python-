{
  "cells": [
    {
      "cell_type": "markdown",
      "metadata": {
        "id": "view-in-github",
        "colab_type": "text"
      },
      "source": [
        "<a href=\"https://colab.research.google.com/github/Jaynnef/Project---1-python-/blob/main/1-%20projetoPython.ipynb\" target=\"_parent\"><img src=\"https://colab.research.google.com/assets/colab-badge.svg\" alt=\"Open In Colab\"/></a>"
      ]
    },
    {
      "cell_type": "code",
      "execution_count": null,
      "metadata": {
        "id": "l4IRRnxsk4ns"
      },
      "outputs": [],
      "source": [
        "# Importando módulos regex - tratamento de caracter\n",
        "import re"
      ]
    },
    {
      "cell_type": "code",
      "execution_count": null,
      "metadata": {
        "id": "4XGPIxJy7LWP"
      },
      "outputs": [],
      "source": [
        "# Declaração de variáveis globais\n",
        "funcionarios = {}\n",
        "id_counter = 1"
      ]
    },
    {
      "cell_type": "code",
      "execution_count": null,
      "metadata": {
        "id": "Mt2frjj63oG_"
      },
      "outputs": [],
      "source": [
        "def entrada_str(prompt):\n",
        "    while True:\n",
        "        regexp = re.compile('[^a-zA-Z]+') # Expressões regulares (regex)\n",
        "        entrada = input(prompt).strip()  # Remove espaços em branco no início/fim\n",
        "\n",
        "        if entrada == '':  # Verifica se a entrada está vazia\n",
        "            print(\"Por favor, insira um texto válido (não vazio).\")\n",
        "        elif regexp.search(entrada):\n",
        "            print(\"Por favor, insira um texto válido (não caracteres).\")\n",
        "        else:\n",
        "            try:\n",
        "                # Tenta converter para número para verificar se é numérico\n",
        "                float(entrada)\n",
        "                print(\"Por favor, insira um texto, não um número.\")\n",
        "            except ValueError:\n",
        "                # Se não for número, retorna a entrada como válida\n",
        "                return entrada"
      ]
    },
    {
      "cell_type": "code",
      "execution_count": null,
      "metadata": {
        "id": "sq1S3psOk2tj"
      },
      "outputs": [],
      "source": [
        "# Função para validar entradas numéricas\n",
        "def entrada_numerica(prompt):\n",
        "  while True:\n",
        "    try:\n",
        "      valor = float(input(prompt))\n",
        "      # Validar entradas numéricas negativas\n",
        "      if valor <= 0:\n",
        "        print('Por favor, digite um número positivo válido.')\n",
        "      else:\n",
        "        return valor\n",
        "\n",
        "    except ValueError:\n",
        "      print('Por favor, digite um número válido.')"
      ]
    },
    {
      "cell_type": "code",
      "execution_count": null,
      "metadata": {
        "id": "yhCppUyH27p9"
      },
      "outputs": [],
      "source": [
        "# Função para validar email\n",
        "def entrada_email(prompt):\n",
        "  while True:\n",
        "      regexp = r'^[a-zA-Z0-9_.+-]+@[a-zA-Z0-9-]+\\.[a-zA-Z0-9-.]+$' # Expressões regulares (regex)\n",
        "      email = input(prompt).strip()  # Remove espaços em branco no início/fim\n",
        "\n",
        "      if email == '':  # Verifica se a entrada está vazia\n",
        "          print(\"Por favor, insira um e-mail válido (não vazio).\")\n",
        "      else:\n",
        "          try:\n",
        "              # Tenta converter para número para verificar se é numérico\n",
        "              float(email)\n",
        "              print(\"Por favor, insira um e-mail, não um número.\")\n",
        "          except ValueError:\n",
        "              # Se não for número, retorna o email como válida\n",
        "              if re.match(regexp, email):\n",
        "                return email\n",
        "              else:\n",
        "                print(\"E-mail inválido!\")"
      ]
    },
    {
      "cell_type": "code",
      "execution_count": null,
      "metadata": {
        "id": "gP24E8Q0jiEg"
      },
      "outputs": [],
      "source": [
        "# Função para adicionar um novo funcionário\n",
        "def adicionar_funcionario():\n",
        "    global id_counter\n",
        "\n",
        "    print('Adicionando um novo funcionário ao sistema')\n",
        "    nome = entrada_str('Digite o nome do funcionário: ')\n",
        "    cidade = entrada_str('Cidade: ')\n",
        "    estado = entrada_str('Estado: ')\n",
        "    idade = entrada_numerica('Idade: ')\n",
        "    escolaridade = entrada_str('Escolaridade: ')\n",
        "    cargo = entrada_str('Cargo: ')\n",
        "    salario = entrada_numerica('Digite o salario do funcionário: R$')\n",
        "    email = entrada_email('Digite o e-mail do funcionário: ')\n",
        "\n",
        "    funcionario = {\n",
        "        'id': id_counter,\n",
        "        'nome': nome.title(),\n",
        "        'cidade': cidade.title(),\n",
        "        'estado': estado.title(),\n",
        "        'idade': idade,\n",
        "        'escolaridade': escolaridade.title(),\n",
        "        'cargo': cargo.title(),\n",
        "        'salario': salario,\n",
        "        'email': email\n",
        "    }\n",
        "\n",
        "    funcionarios[id_counter] = funcionario\n",
        "    id_counter += 1\n",
        "    print(f'Funcionário {funcionario['id']} adicionado com sucesso!\\n')\n",
        "\n"
      ]
    },
    {
      "cell_type": "code",
      "execution_count": null,
      "metadata": {
        "id": "qpBQjHnzqPCY"
      },
      "outputs": [],
      "source": [
        "'''\n",
        "Função para atualizar as informações de um funcionário existente com base em um identificador único\n",
        "(como um número de identificação ou nome).\n",
        "'''\n",
        "def atualizar_funcionario():\n",
        "    print('Atualiando um funcionário no sistema')\n",
        "    id_funcionario = entrada_numerica(\"Digite o ID do funcionário a ser atualizado: \")\n",
        "    if id_funcionario in funcionarios:\n",
        "        print(f\"Atualizando dados do funcionário: {funcionarios[id_funcionario]['nome']}\")\n",
        "        funcionarios[id_funcionario]['nome'] = entrada_str(\"Nome: \").title()\n",
        "        funcionarios[id_funcionario]['cidade'] = entrada_str(\"Cidade: \").title()\n",
        "        funcionarios[id_funcionario]['estado'] = entrada_str(\"Estado: \").title()\n",
        "        funcionarios[id_funcionario]['idade'] = entrada_numerica(\"Idade: \")\n",
        "        funcionarios[id_funcionario]['escolaridade'] = entrada_str(\"Escolaridade: \").title()\n",
        "        funcionarios[id_funcionario]['cargo'] = entrada_str(\"Cargo: \").title()\n",
        "        funcionarios[id_funcionario]['salario'] = entrada_numerica(\"Salário: R$\")\n",
        "        funcionarios[id_funcionario]['email'] = entrada_email(\"E-mail: \")\n",
        "        print(f\"Dados do funcionário {funcionarios[id_funcionario]['nome']} atualizados com sucesso!\\n\")\n",
        "    else:\n",
        "        print(\"Funcionário não encontrado!\\n\")\n"
      ]
    },
    {
      "cell_type": "code",
      "execution_count": null,
      "metadata": {
        "id": "uK9PIsjqryrQ"
      },
      "outputs": [],
      "source": [
        "# Listar todos os funcionários cadastrados.\n",
        "def listar_funcionarios():\n",
        "    print('Listando todos os funcionários do sistema')\n",
        "    if not funcionarios:\n",
        "        print(\"Nenhum funcionário cadastrado.\\n\")\n",
        "    else:\n",
        "        for id_funcionario, dados in funcionarios.items():\n",
        "            print(f\"ID: {id_funcionario}, Nome: {dados['nome']}, E-mail: {dados['email']}, Cargo: {dados['cargo']}, Salário: R${dados['salario']:.2f}\")\n",
        "        print(\"\\n\")"
      ]
    },
    {
      "cell_type": "code",
      "execution_count": null,
      "metadata": {
        "id": "KdFonAjOr3Mo"
      },
      "outputs": [],
      "source": [
        "# Permitir a remoção de um funcionário do sistema.\n",
        "def remover_funcionario():\n",
        "  print('Removendo um funcionário do sistema')\n",
        "  id_funcionario = entrada_numerica('Digite o ID do funcionário a ser removido: ')\n",
        "  if id_funcionario in funcionarios:\n",
        "    funcionarios.pop(id_funcionario)\n",
        "    print('Funcionário removido com sucesso!\\n')\n",
        "  else:\n",
        "    print('Funcionário não encontrado!\\n')\n",
        "  return id_funcionario\n",
        "\n"
      ]
    },
    {
      "cell_type": "code",
      "execution_count": null,
      "metadata": {
        "colab": {
          "background_save": true,
          "base_uri": "https://localhost:8080/"
        },
        "id": "aj3JnEy4T3lh",
        "outputId": "21f0d037-f900-42ad-8232-c55050025098"
      },
      "outputs": [
        {
          "name": "stdout",
          "output_type": "stream",
          "text": [
            "Seja bem vindo ao nosso sitema!\n",
            "\n",
            "\n"
          ]
        }
      ],
      "source": [
        "# Início do projeto\n",
        "print('Seja bem vindo ao nosso sitema!\\n\\n')\n",
        "while True:\n",
        "  opcao = input(\n",
        "              'Digite o número de uma das opções abaixo:\\n'+\n",
        "                  '1 - Adicionar um novo funcionário ao sistema.\\n'+\n",
        "                  '2 - Atualizar as informações de um funcionário existente.\\n'+\n",
        "                  '3 - Listar todos os funcionários cadastrados.\\n'+\n",
        "                  '4 - Remover um funcionário do sistema.\\n'+\n",
        "                  'sair - Para encerrar a sessão do sistema digite \"sair\".\\n\\n')\n",
        "\n",
        "  try:\n",
        "    opcao = int(opcao)\n",
        "    if opcao >= 1 and opcao <= 4:\n",
        "      if opcao == 1:\n",
        "        adicionar_funcionario()\n",
        "      elif opcao == 2:\n",
        "        atualizar_funcionario()\n",
        "      elif opcao == 3:\n",
        "        listar_funcionarios()\n",
        "      elif opcao == 4:\n",
        "        remover_funcionario()\n",
        "      else:\n",
        "        print('\\nVocê escolheu uma opção inválida!')\n",
        "        print('Escolha uma opção de 1 a 4!\\n')\n",
        "  except:\n",
        "    if opcao.strip().lower() == \"sair\":\n",
        "      print('Obrigado por usar o nosso sistema!\\n')\n",
        "      break\n",
        "    print('\\nVocê escolheu uma opção inválida!')\n",
        "    print('Escolha uma opção de 1 a 4!\\n')"
      ]
    },
    {
      "cell_type": "code",
      "execution_count": null,
      "metadata": {
        "colab": {
          "base_uri": "https://localhost:8080/",
          "height": 105
        },
        "id": "-JdG8Dw7wYwX",
        "outputId": "522f787e-5d4d-4bed-a81d-9c3446cf0ee9"
      },
      "outputs": [
        {
          "data": {
            "application/vnd.google.colaboratory.intrinsic+json": {
              "type": "string"
            },
            "text/plain": [
              "'  RESTRIÇÕES !!!\\nCertifique-se de implementar um sistema de identificação único para cada funcionário.(quando for adicionado ele recebe um id ou mat)\\nValide as entradas do usuário para garantir que as operações sejam realizadas corretamente e sem erros.( tratamento de dados)\\nDocumente adequadamente seu código com comentários explicativos para ajudar na compreensão.( )\\nEsse projeto permite aos alunos praticar e consolidar conceitos fundamentais em Python, como operadores,\\nestruturas de controle, estruturas de dados e funções, enquanto constroem um aplicativo útil para gerenciar\\n informações de funcionários de uma empresa fictícia.\\n '"
            ]
          },
          "execution_count": 11,
          "metadata": {},
          "output_type": "execute_result"
        }
      ],
      "source": [
        "'''  RESTRIÇÕES !!!\n",
        "Certifique-se de implementar um sistema de identificação único para cada funcionário.(quando for adicionado ele recebe um id ou mat)\n",
        "Valide as entradas do usuário para garantir que as operações sejam realizadas corretamente e sem erros.( tratamento de dados)\n",
        "Documente adequadamente seu código com comentários explicativos para ajudar na compreensão.( )\n",
        "Esse projeto permite aos alunos praticar e consolidar conceitos fundamentais em Python, como operadores,\n",
        "estruturas de controle, estruturas de dados e funções, enquanto constroem um aplicativo útil para gerenciar\n",
        " informações de funcionários de uma empresa fictícia.\n",
        " '''\n"
      ]
    }
  ],
  "metadata": {
    "colab": {
      "provenance": [],
      "include_colab_link": true
    },
    "kernelspec": {
      "display_name": "Python 3",
      "name": "python3"
    },
    "language_info": {
      "name": "python"
    }
  },
  "nbformat": 4,
  "nbformat_minor": 0
}